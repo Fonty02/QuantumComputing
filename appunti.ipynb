{
 "cells": [
  {
   "cell_type": "markdown",
   "id": "f3f28e61",
   "metadata": {},
   "source": [
    "# Create circuits\n",
    "\n",
    "Per creare circuiti quantistici con Qiskit, è possibile utilizzare la libreria `qiskit` di Python. Per farlo bisogna importare:\n",
    "\n",
    "Per farlo bisogna importare:\n",
    "\n",
    "```QuantumRegister```: Ciò consente di creare registri quantistici, che sono insiemi di qubit.\n",
    "\n",
    "```ClassicalRegister```: Questo consente di creare registri classici, che sono insiemi di bit classici utilizzati per memorizzare i risultati delle misurazioni.\n",
    "\n",
    "```QuantumCircuit```: Questa è la classe principale per creare circuiti quantistici. Permette di combinare registri quantistici e classici e di aggiungere porte quantistiche e operazioni al circuito.\n",
    "\n"
   ]
  },
  {
   "cell_type": "code",
   "execution_count": 1,
   "id": "8551ec87",
   "metadata": {},
   "outputs": [
    {
     "data": {
      "text/plain": [
       "<qiskit.circuit.instructionset.InstructionSet at 0x293f06b8cd0>"
      ]
     },
     "execution_count": 1,
     "metadata": {},
     "output_type": "execute_result"
    }
   ],
   "source": [
    "from qiskit import QuantumRegister, ClassicalRegister, QuantumCircuit\n",
    "qreg = QuantumRegister(3) # Create a quantum register with 3 qubits\n",
    "creg = ClassicalRegister(3) # Create a classical register with 3 bits\n",
    "qc = QuantumCircuit(qreg, creg) # Create a quantum circuit using the registers\n",
    "qc.measure(qreg, creg) # Add measurement operations to the circuit"
   ]
  },
  {
   "cell_type": "markdown",
   "id": "1c72888e",
   "metadata": {},
   "source": [
    "\n",
    "# Basic Gates\n",
    "\n",
    "| QuantumGate | ...on qubits | ... on register |\n",
    "|---|---|---|\n",
    "| X | `qc.x(qreg[0])` | `qc.x(qreg)` — applies X to every qubit in the register |\n",
    "| Hadamard | `qc.h(qreg[0])` | `qc.h(qreg)` — applies H to every qubit in the register |\n",
    "| CX (CNOT) | `qc.cx(qreg[0], qreg[1])` | Pairwise between two registers of equal size: `qc.cx(ctrl_reg, tgt_reg)` (e.g., `qc.cx(qreg1, qreg2)`) |\n",
    "| CCX (Toffoli) | `qc.ccx(qreg[0], qreg[1], qreg[2])` | No single-register shorthand — apply to explicit qubit triples (e.g., three registers or indexed qubits) |\n",
    "| Phase shift | `qc.u1(theta, qreg[0])` | `qc.u1(theta, qreg)` — applies phase shift to every qubit in the register |\n",
    "| Swap | `qc.swap(qreg[0], qreg[1])` | Pairwise between two registers of equal size: `qc.swap(reg1, reg2)` (e.g., `qc.swap(qreg1, qreg2)`) |\n",
    "| Measure (not a gate) | `qc.measure(qreg[0], creg[0])` | `qc.measure(qreg, creg)` — measures all qubits in the quantum register into the classical register |\n",
    "| Reset (not a gate) | `qc.reset(qreg[0])` | `qc.reset(qreg)` — resets all qubits in the quantum register to |0⟩ |\n",
    "\n",
    "# Circuit methods\n",
    "\n",
    "| Operation | Example | Description |\n",
    "|---:|:---:|:---|\n",
    "| Barrier | `qc.barrier()` | Adds a barrier to the circuit for visualization and to prevent certain optimizations across the barrier. |\n",
    "| Add register | `qc.add_register(qreg2)` | Adds a `QuantumRegister` or `ClassicalRegister` to the circuit. |\n",
    "| Combine | `qc.combine(other_qc)` | Returns a new `QuantumCircuit` that combines this circuit with `other_qc` (does not modify the originals). |\n",
    "| Extend | `qc.extend(other_qc)` | Appends the operations of `other_qc` into this circuit (modifies the existing circuit). |\n",
    "| QASM | `qc.qasm()` | Generates and returns the QASM (Quantum Assembly Language) representation of the circuit as a string. |\n",
    "\n",
    "\n",
    "# Job methods and utilities\n",
    "\n",
    "| Job method / utility | Example | Description |\n",
    "|---:|:---:|:---|\n",
    "| Get result | `job.result()` | Blocks until the job finishes and returns a `Result` object containing measurement outcomes and metadata. |\n",
    "| Status | `job.status()` | Returns the current status of the job (e.g., RUNNING, DONE, ERROR). |\n",
    "| Done check | `job.done()` | Non-blocking boolean indicating whether the job has completed. |\n",
    "| Job id | `job.job_id()` / `job.id()` | Returns the unique identifier of the job (API may expose `job_id()` or `id()` depending on provider/version). |\n",
    "| Get counts | `job.result().get_counts(circuit)` | Retrieves the measurement counts for a specific circuit from the job result (returns a dict of bitstrings → counts). |\n",
    "| Monitor | `from qiskit.tools.monitor import job_monitor`<br>`job_monitor(job)` | Utility to display real-time job progress (estimated time, status updates). |\n"
   ]
  },
  {
   "cell_type": "code",
   "execution_count": null,
   "id": "9c8c8c01",
   "metadata": {},
   "outputs": [
    {
     "name": "stdout",
     "output_type": "stream",
     "text": [
      "Operator([[1.+0.j, 0.+0.j],\n",
      "          [0.+0.j, 1.+0.j]],\n",
      "         input_dims=(2,), output_dims=(2,))\n"
     ]
    }
   ],
   "source": [
    "from qiskit_aer import Aer\n",
    "from qiskit.compiler import transpile  # transpile è necessario perchè ogni dispositivo quantistico ha constraint diversi (come connettività tra qubit, set di porte supportate, ecc.)\n",
    "backend = Aer.get_backend('unitary_simulator') # Con unitary_simulator andiamo a restituire la matrice unitaria associata al circuito quantistico\n",
    "q=QuantumRegister(1)\n",
    "qc=QuantumCircuit(q)\n",
    "qc.id(q)\n",
    "qc.draw('mpl')\n",
    "\n",
    "\n",
    "job = backend.run(transpile(qc, backend))\n",
    "job.result().get_unitary(qc, decimals=3)"
   ]
  },
  {
   "cell_type": "code",
   "execution_count": 25,
   "id": "0c4e694d",
   "metadata": {},
   "outputs": [
    {
     "data": {
      "text/plain": [
       "{'0': 504, '1': 520}"
      ]
     },
     "execution_count": 25,
     "metadata": {},
     "output_type": "execute_result"
    }
   ],
   "source": [
    "q=QuantumRegister(1)\n",
    "c=ClassicalRegister(1)\n",
    "qc=QuantumCircuit(q,c)\n",
    "qc.h(q)\n",
    "qc.measure(q,c)\n",
    "\n",
    "\n",
    "backend = Aer.get_backend('qasm_simulator')\n",
    "job = backend.run(transpile(qc, backend))\n",
    "job.result().get_counts(qc)"
   ]
  }
 ],
 "metadata": {
  "kernelspec": {
   "display_name": "quantumcomputing (3.12.11)",
   "language": "python",
   "name": "python3"
  },
  "language_info": {
   "codemirror_mode": {
    "name": "ipython",
    "version": 3
   },
   "file_extension": ".py",
   "mimetype": "text/x-python",
   "name": "python",
   "nbconvert_exporter": "python",
   "pygments_lexer": "ipython3",
   "version": "3.12.11"
  }
 },
 "nbformat": 4,
 "nbformat_minor": 5
}
